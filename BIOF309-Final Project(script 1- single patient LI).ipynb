{
 "cells": [
  {
   "cell_type": "markdown",
   "metadata": {},
   "source": [
    "The goal of this project is to create a laterality index for Auditory Description Decision Task (ADDT) and Auditory Category Decision Task (AUDCAT) fMRI activation in 5 subjects. This will be accomplished using Bash and Python langauages, and AFNI neuroimaging software.\n",
    "- Images were preprocessed and each hemisphere masked to produced an output file of activated voxels in that hemisphere.\n",
    "- Here, those outputs will be combined to calculate the laterality index and organize the data. "
   ]
  },
  {
   "cell_type": "markdown",
   "metadata": {},
   "source": [
    "Laterality index will be calculated with the following formula: \n",
    "\n",
    "LI=  (Voxels_left-Voxels_right)/\n",
    "     (Voxels_left+Voxels_right )\n"
   ]
  },
  {
   "cell_type": "markdown",
   "metadata": {},
   "source": [
    "Laterality categorization will be done using the following criteria: \n",
    "\n",
    "LI< -0.2=Right\n",
    "\n",
    "-0.2< LI < 0.2=Bilateral\n",
    "\n",
    "LI>0.2=Left\n",
    "\n",
    "as defined by https://www.ncbi.nlm.nih.gov/pmc/articles/PMC2726301/?report=printable"
   ]
  },
  {
   "cell_type": "code",
   "execution_count": 411,
   "metadata": {},
   "outputs": [
    {
     "data": {
      "text/plain": [
       "'/Users/rolinskira/Desktop/laterality_index/python_dir/p67_counts'"
      ]
     },
     "execution_count": 411,
     "metadata": {},
     "output_type": "execute_result"
    }
   ],
   "source": [
    "%pwd"
   ]
  },
  {
   "cell_type": "code",
   "execution_count": 412,
   "metadata": {},
   "outputs": [
    {
     "name": "stdout",
     "output_type": "stream",
     "text": [
      "/Users/rolinskira\n"
     ]
    }
   ],
   "source": [
    "%cd "
   ]
  },
  {
   "cell_type": "code",
   "execution_count": 413,
   "metadata": {},
   "outputs": [
    {
     "name": "stdout",
     "output_type": "stream",
     "text": [
      "please enter the patient number as p#p67\n"
     ]
    }
   ],
   "source": [
    "patient = input('please enter the patient number as p#')"
   ]
  },
  {
   "cell_type": "code",
   "execution_count": 414,
   "metadata": {},
   "outputs": [
    {
     "name": "stdout",
     "output_type": "stream",
     "text": [
      "p67\n"
     ]
    }
   ],
   "source": [
    "print(patient)"
   ]
  },
  {
   "cell_type": "code",
   "execution_count": 415,
   "metadata": {},
   "outputs": [
    {
     "name": "stdout",
     "output_type": "stream",
     "text": [
      "/Users/rolinskira/Desktop/laterality_index/python_dir/p67_counts\n"
     ]
    }
   ],
   "source": [
    "%cd Desktop/laterality_index/python_dir/{patient}_counts"
   ]
  },
  {
   "cell_type": "code",
   "execution_count": 416,
   "metadata": {},
   "outputs": [
    {
     "name": "stdout",
     "output_type": "stream",
     "text": [
      "p67_LI_final                          p67_right_hem_addt.top10.count.txt\r\n",
      "p67_left_hem_addt.top10.count.txt     p67_right_hem_audcat.top10.count.txt\r\n",
      "p67_left_hem_audcat.top10.count.txt\r\n"
     ]
    }
   ],
   "source": [
    "ls"
   ]
  },
  {
   "cell_type": "code",
   "execution_count": 417,
   "metadata": {},
   "outputs": [
    {
     "name": "stdout",
     "output_type": "stream",
     "text": [
      "p67_left_hem_addt.top10.count.txt\n"
     ]
    }
   ],
   "source": [
    "filename_L_addt = str(patient) + '_left_hem_addt.top10.count.txt'\n",
    "print(filename_L_addt)"
   ]
  },
  {
   "cell_type": "code",
   "execution_count": 418,
   "metadata": {},
   "outputs": [
    {
     "name": "stdout",
     "output_type": "stream",
     "text": [
      "p67_right_hem_addt.top10.count.txt\n"
     ]
    }
   ],
   "source": [
    "filename_R_addt = str(patient) + '_right_hem_addt.top10.count.txt'\n",
    "print(filename_R_addt)"
   ]
  },
  {
   "cell_type": "code",
   "execution_count": 419,
   "metadata": {},
   "outputs": [
    {
     "name": "stdout",
     "output_type": "stream",
     "text": [
      "The number of activated voxels in the left hemisphere during ADDT task is:46468        \n",
      "\n"
     ]
    }
   ],
   "source": [
    "#open data files for p80 and print the output of the data file\n",
    "patient_left_hem_addt = open(filename_L_addt, \"r\")\n",
    "read_left_hem_addt = patient_left_hem_addt.read()\n",
    "print(\"The number of activated voxels in the left hemisphere during ADDT task is:\" + read_left_hem_addt)\n"
   ]
  },
  {
   "cell_type": "code",
   "execution_count": 420,
   "metadata": {},
   "outputs": [
    {
     "name": "stdout",
     "output_type": "stream",
     "text": [
      "The number of activated voxels in the right hemisphere during ADDT task is:42945        \n",
      "\n"
     ]
    }
   ],
   "source": [
    "#open data files for p80 and print the output of the data file\n",
    "patient_right_hem_addt = open(filename_R_addt, \"r\")\n",
    "read_right_hem_addt = patient_right_hem_addt.read()\n",
    "print(\"The number of activated voxels in the right hemisphere during ADDT task is:\" + read_right_hem_addt)"
   ]
  },
  {
   "cell_type": "code",
   "execution_count": 421,
   "metadata": {
    "collapsed": true
   },
   "outputs": [],
   "source": [
    "import numpy as np"
   ]
  },
  {
   "cell_type": "code",
   "execution_count": 422,
   "metadata": {},
   "outputs": [
    {
     "name": "stdout",
     "output_type": "stream",
     "text": [
      "<class 'str'>\n"
     ]
    }
   ],
   "source": [
    "#print class of imported data\n",
    "print(type(read_left_hem_addt))"
   ]
  },
  {
   "cell_type": "code",
   "execution_count": 423,
   "metadata": {},
   "outputs": [
    {
     "name": "stdout",
     "output_type": "stream",
     "text": [
      "<class 'int'>\n"
     ]
    }
   ],
   "source": [
    "#convert strings to integers in order to perform a calculation\n",
    "L_hem_addt_int = int(read_left_hem_addt)\n",
    "print(type(L_hem_addt_int))"
   ]
  },
  {
   "cell_type": "code",
   "execution_count": 424,
   "metadata": {},
   "outputs": [
    {
     "name": "stdout",
     "output_type": "stream",
     "text": [
      "46468\n"
     ]
    }
   ],
   "source": [
    "#make sure the value is still the same after converting class\n",
    "print(L_hem_addt_int)"
   ]
  },
  {
   "cell_type": "code",
   "execution_count": 425,
   "metadata": {},
   "outputs": [
    {
     "name": "stdout",
     "output_type": "stream",
     "text": [
      "<class 'int'>\n"
     ]
    }
   ],
   "source": [
    "#convert strings to integers in order to perform a calculation\n",
    "R_hem_addt_int = int(read_right_hem_addt)\n",
    "print(type(R_hem_addt_int))"
   ]
  },
  {
   "cell_type": "code",
   "execution_count": 426,
   "metadata": {},
   "outputs": [
    {
     "name": "stdout",
     "output_type": "stream",
     "text": [
      "42945\n"
     ]
    }
   ],
   "source": [
    "#make sure the value is still the same after converting class\n",
    "print(R_hem_addt_int)"
   ]
  },
  {
   "cell_type": "code",
   "execution_count": 427,
   "metadata": {},
   "outputs": [
    {
     "name": "stdout",
     "output_type": "stream",
     "text": [
      "89413\n"
     ]
    }
   ],
   "source": [
    "sum_LR_addt = L_hem_addt_int + R_hem_addt_int\n",
    "print(sum_LR_addt)"
   ]
  },
  {
   "cell_type": "code",
   "execution_count": 428,
   "metadata": {},
   "outputs": [
    {
     "name": "stdout",
     "output_type": "stream",
     "text": [
      "The LI for the ADDT task is:0.039401429322358045\n"
     ]
    }
   ],
   "source": [
    "LI_addt = (L_hem_addt_int - R_hem_addt_int)/ sum_LR_addt\n",
    "print(\"The LI for the ADDT task is:\" + str(LI_addt))"
   ]
  },
  {
   "cell_type": "code",
   "execution_count": 429,
   "metadata": {},
   "outputs": [
    {
     "name": "stdout",
     "output_type": "stream",
     "text": [
      "p67_LI_final                          p67_right_hem_addt.top10.count.txt\r\n",
      "p67_left_hem_addt.top10.count.txt     p67_right_hem_audcat.top10.count.txt\r\n",
      "p67_left_hem_audcat.top10.count.txt\r\n"
     ]
    }
   ],
   "source": [
    "%ls"
   ]
  },
  {
   "cell_type": "code",
   "execution_count": 430,
   "metadata": {},
   "outputs": [
    {
     "name": "stdout",
     "output_type": "stream",
     "text": [
      "p67_left_hem_addt.top10.count.txt\n"
     ]
    }
   ],
   "source": [
    "filename_L_audcat = str(patient) + '_left_hem_audcat.top10.count.txt'\n",
    "print(filename_L_addt)"
   ]
  },
  {
   "cell_type": "code",
   "execution_count": 431,
   "metadata": {},
   "outputs": [
    {
     "name": "stdout",
     "output_type": "stream",
     "text": [
      "p67_left_hem_addt.top10.count.txt\n"
     ]
    }
   ],
   "source": [
    "filename_R_audcat = str(patient) + '_right_hem_audcat.top10.count.txt'\n",
    "print(filename_L_addt)"
   ]
  },
  {
   "cell_type": "code",
   "execution_count": 432,
   "metadata": {},
   "outputs": [
    {
     "name": "stdout",
     "output_type": "stream",
     "text": [
      "The number of activated voxels in the left hemisphere during AUDCAT task is:38645        \n",
      "\n"
     ]
    }
   ],
   "source": [
    "#open data files for p80 left side, audcat task and print the output of the data file\n",
    "patient_left_hem_audcat = open(filename_L_audcat, \"r\")\n",
    "read_left_hem_audcat = patient_left_hem_audcat.read()\n",
    "print(\"The number of activated voxels in the left hemisphere during AUDCAT task is:\" + read_left_hem_audcat)"
   ]
  },
  {
   "cell_type": "code",
   "execution_count": 433,
   "metadata": {},
   "outputs": [
    {
     "name": "stdout",
     "output_type": "stream",
     "text": [
      "The number of activated voxels in the right hemisphere during AUDCAT task is:17248        \n",
      "\n"
     ]
    }
   ],
   "source": [
    "#open data files for p80 right side, audcat task and print the output of the data file\n",
    "patient_right_hem_audcat = open(filename_R_audcat, \"r\")\n",
    "read_right_hem_audcat = patient_right_hem_audcat.read()\n",
    "print(\"The number of activated voxels in the right hemisphere during AUDCAT task is:\" + read_right_hem_audcat)\n"
   ]
  },
  {
   "cell_type": "code",
   "execution_count": 434,
   "metadata": {},
   "outputs": [
    {
     "name": "stdout",
     "output_type": "stream",
     "text": [
      "<class 'int'>\n"
     ]
    }
   ],
   "source": [
    "#convert strings to integers in order to perform a calculation\n",
    "L_hem_audcat_int = int(read_left_hem_audcat)\n",
    "print(type(L_hem_audcat_int))"
   ]
  },
  {
   "cell_type": "code",
   "execution_count": 435,
   "metadata": {},
   "outputs": [
    {
     "name": "stdout",
     "output_type": "stream",
     "text": [
      "38645\n"
     ]
    }
   ],
   "source": [
    "#make sure the value is still the same after converting class\n",
    "print(L_hem_audcat_int)"
   ]
  },
  {
   "cell_type": "code",
   "execution_count": 436,
   "metadata": {},
   "outputs": [
    {
     "name": "stdout",
     "output_type": "stream",
     "text": [
      "<class 'int'>\n"
     ]
    }
   ],
   "source": [
    "#convert strings to integers in order to perform a calculation\n",
    "R_hem_audcat_int = int(read_right_hem_audcat)\n",
    "print(type(R_hem_audcat_int))"
   ]
  },
  {
   "cell_type": "code",
   "execution_count": 437,
   "metadata": {},
   "outputs": [
    {
     "name": "stdout",
     "output_type": "stream",
     "text": [
      "17248\n"
     ]
    }
   ],
   "source": [
    "print(R_hem_audcat_int)"
   ]
  },
  {
   "cell_type": "code",
   "execution_count": 438,
   "metadata": {},
   "outputs": [
    {
     "name": "stdout",
     "output_type": "stream",
     "text": [
      "55893\n"
     ]
    }
   ],
   "source": [
    "sum_LR_audcat = L_hem_audcat_int + R_hem_audcat_int\n",
    "print(sum_LR_audcat)"
   ]
  },
  {
   "cell_type": "code",
   "execution_count": 439,
   "metadata": {},
   "outputs": [
    {
     "name": "stdout",
     "output_type": "stream",
     "text": [
      "The LI for the AUDCAT task is:0.38282074678403377\n"
     ]
    }
   ],
   "source": [
    "LI_audcat = (L_hem_audcat_int - R_hem_audcat_int)/ sum_LR_audcat\n",
    "print(\"The LI for the AUDCAT task is:\" + str(LI_audcat))"
   ]
  },
  {
   "cell_type": "code",
   "execution_count": 440,
   "metadata": {},
   "outputs": [
    {
     "name": "stdout",
     "output_type": "stream",
     "text": [
      "The subject is bilateral for ADDT\n",
      "BL\n",
      "0.039401429322358045\n"
     ]
    }
   ],
   "source": [
    "if LI_addt > 0.2:\n",
    "    print(\"The subject is left hemispheric dominant for ADDT.\")\n",
    "    print(str('LD'))\n",
    "    print(LI_addt)\n",
    "    hem_dom_addt = 'LD'\n",
    "elif LI_addt < -0.2:\n",
    "    print(\"The subject is right hemispheric dominant for ADDT.\")\n",
    "    print(str('RD'))\n",
    "    print(LI_addt)\n",
    "    hem_dom_addt = 'RD'\n",
    "else:\n",
    "    print(\"The subject is bilateral for ADDT\")\n",
    "    print(str(\"BL\"))\n",
    "    print(LI_addt)\n",
    "    hem_dom_addt = 'BL'"
   ]
  },
  {
   "cell_type": "code",
   "execution_count": 441,
   "metadata": {},
   "outputs": [
    {
     "name": "stdout",
     "output_type": "stream",
     "text": [
      "The subject is left hemispheric dominant for AUDCAT.\n",
      "LD\n",
      "0.38282074678403377\n"
     ]
    }
   ],
   "source": [
    "if LI_audcat > 0.2:\n",
    "    print(\"The subject is left hemispheric dominant for AUDCAT.\")\n",
    "    print(str('LD'))\n",
    "    print(LI_audcat)\n",
    "    hem_dom_audcat = 'LD'\n",
    "elif LI_audcat < -0.2:\n",
    "    print(\"The subject is right hemispheric dominant for AUDCAT.\")\n",
    "    print(str('RD'))\n",
    "    print(LI_audcat)\n",
    "    hem_dom_audcat = 'RD'\n",
    "else:\n",
    "    print(\"The subject is bilateral for AUDCAT\")\n",
    "    print(str(\"BL\"))\n",
    "    print(LI_audcat)\n",
    "    hem_dom_audcat = 'BL'"
   ]
  },
  {
   "cell_type": "code",
   "execution_count": 442,
   "metadata": {},
   "outputs": [
    {
     "name": "stdout",
     "output_type": "stream",
     "text": [
      "[('p67', 0.039401429322358045, 'BL', 0.38282074678403377, 'LD')]\n"
     ]
    }
   ],
   "source": [
    "filename_array = str(patient)\n",
    "LI_array = [(filename_array, LI_addt, hem_dom_addt, LI_audcat, hem_dom_audcat)]\n",
    "print(LI_array)"
   ]
  },
  {
   "cell_type": "code",
   "execution_count": 443,
   "metadata": {
    "collapsed": true
   },
   "outputs": [],
   "source": [
    "import pandas as pd"
   ]
  },
  {
   "cell_type": "code",
   "execution_count": 444,
   "metadata": {},
   "outputs": [
    {
     "data": {
      "text/html": [
       "<div>\n",
       "<style>\n",
       "    .dataframe thead tr:only-child th {\n",
       "        text-align: right;\n",
       "    }\n",
       "\n",
       "    .dataframe thead th {\n",
       "        text-align: left;\n",
       "    }\n",
       "\n",
       "    .dataframe tbody tr th {\n",
       "        vertical-align: top;\n",
       "    }\n",
       "</style>\n",
       "<table border=\"1\" class=\"dataframe\">\n",
       "  <thead>\n",
       "    <tr style=\"text-align: right;\">\n",
       "      <th></th>\n",
       "      <th>patient</th>\n",
       "      <th>LI addt</th>\n",
       "      <th>Hem Dom addt</th>\n",
       "      <th>LI audcat</th>\n",
       "      <th>Hem Dom audcat</th>\n",
       "    </tr>\n",
       "  </thead>\n",
       "  <tbody>\n",
       "    <tr>\n",
       "      <th>0</th>\n",
       "      <td>p67</td>\n",
       "      <td>0.039401</td>\n",
       "      <td>BL</td>\n",
       "      <td>0.382821</td>\n",
       "      <td>LD</td>\n",
       "    </tr>\n",
       "  </tbody>\n",
       "</table>\n",
       "</div>"
      ],
      "text/plain": [
       "  patient   LI addt Hem Dom addt  LI audcat Hem Dom audcat\n",
       "0     p67  0.039401           BL   0.382821             LD"
      ]
     },
     "execution_count": 444,
     "metadata": {},
     "output_type": "execute_result"
    }
   ],
   "source": [
    "LI_df = pd.DataFrame(LI_array, columns=['patient','LI addt', 'Hem Dom addt', \n",
    "                                        'LI audcat', 'Hem Dom audcat'])\n",
    "LI_df"
   ]
  },
  {
   "cell_type": "code",
   "execution_count": 446,
   "metadata": {},
   "outputs": [],
   "source": [
    "#create csv file with data frame for single patient inside\n",
    "filename_csv = str(patient) + '_LI_final'\n",
    "LI_df.to_csv(filename_csv)"
   ]
  },
  {
   "cell_type": "code",
   "execution_count": null,
   "metadata": {
    "collapsed": true
   },
   "outputs": [],
   "source": []
  }
 ],
 "metadata": {
  "kernelspec": {
   "display_name": "Python 3",
   "language": "python",
   "name": "python3"
  },
  "language_info": {
   "codemirror_mode": {
    "name": "ipython",
    "version": 3
   },
   "file_extension": ".py",
   "mimetype": "text/x-python",
   "name": "python",
   "nbconvert_exporter": "python",
   "pygments_lexer": "ipython3",
   "version": "3.6.2"
  }
 },
 "nbformat": 4,
 "nbformat_minor": 2
}
